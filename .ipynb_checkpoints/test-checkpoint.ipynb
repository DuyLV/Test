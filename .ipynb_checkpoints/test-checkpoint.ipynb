{
 "cells": [
  {
   "cell_type": "code",
   "execution_count": 7,
   "metadata": {},
   "outputs": [],
   "source": [
    "from keras.models import load_model\n",
    "from PIL import Image, ImageOps\n",
    "import numpy as np\n",
    "from keras import backend as K\n",
    "import pandas as pd\n",
    "from sklearn.preprocessing import LabelEncoder"
   ]
  },
  {
   "cell_type": "code",
   "execution_count": 8,
   "metadata": {},
   "outputs": [],
   "source": [
    "folder_ex = 'train.json'\n",
    "arr_label = np.array(pd.read_json(folder_ex)['Line'])"
   ]
  },
  {
   "cell_type": "code",
   "execution_count": 9,
   "metadata": {},
   "outputs": [],
   "source": [
    "H = []\n",
    "for i in arr_label:\n",
    "    H +=i\n",
    "elements = np.unique(H)"
   ]
  },
  {
   "cell_type": "code",
   "execution_count": 10,
   "metadata": {},
   "outputs": [
    {
     "name": "stdout",
     "output_type": "stream",
     "text": [
      "WARNING:tensorflow:From c:\\users\\cucttt1\\appdata\\local\\programs\\python\\python37\\lib\\site-packages\\tensorflow\\python\\framework\\op_def_library.py:263: colocate_with (from tensorflow.python.framework.ops) is deprecated and will be removed in a future version.\n",
      "Instructions for updating:\n",
      "Colocations handled automatically by placer.\n"
     ]
    },
    {
     "name": "stderr",
     "output_type": "stream",
     "text": [
      "c:\\users\\cucttt1\\appdata\\local\\programs\\python\\python37\\lib\\site-packages\\keras\\engine\\saving.py:292: UserWarning: No training configuration found in save file: the model was *not* compiled. Compile it manually.\n",
      "  warnings.warn('No training configuration found in save file: '\n"
     ]
    }
   ],
   "source": [
    "label_encoder = LabelEncoder()\n",
    "integer_encoded = label_encoder.fit_transform(elements)\n",
    "\n",
    "img_w = 160\n",
    "img_h = 110\n",
    "\n",
    "model1 = load_model('Model_ver1')"
   ]
  },
  {
   "cell_type": "code",
   "execution_count": 12,
   "metadata": {},
   "outputs": [],
   "source": [
    "def predict_JP(path_image):\n",
    "    def process_0_each_data(path):\n",
    "        img = Image.open(path)\n",
    "        img = img.resize((160,110))\n",
    "        img = img.convert(\"L\")\n",
    "        img = ImageOps.invert(img)\n",
    "        ar_img = np.array(img)\n",
    "        ar_img[ar_img > 40] = 255\n",
    "        ar_img[ar_img <= 40] = 0\n",
    "        ar_img = ar_img/255\n",
    "        return ar_img\n",
    "        \n",
    "    def to_input(data_set):\n",
    "        X_new11 = []\n",
    "        for i in range(len(data_set)):\n",
    "            X_new11.append(data_set[i].T)\n",
    "            \n",
    "        X_new12 = []\n",
    "        for i in range(len(X_new11)):\n",
    "            a = np.transpose(X_new11[i][np.newaxis],(1,2,0))\n",
    "            X_new12.append(a)\n",
    "            \n",
    "        X_new12 = np.array(X_new12)\n",
    "        return X_new12\n",
    "    \n",
    "    def decode(test):\n",
    "       # y_pred = model1.predict(test)\n",
    "        a, b = K.ctc_decode(\n",
    "        y_pred =model1.predict(test),\n",
    "        input_length=  [(img_w//2)//2//2]*len(test),\n",
    "        greedy=True,\n",
    "        beam_width=200,\n",
    "        top_paths=1)\n",
    "        return K.get_value(a[0])\n",
    "    \n",
    "    def decode_num(encode_list):\n",
    "        decode_list = []\n",
    "        for i in range(len(encode_list)):\n",
    "            decode_row=[]\n",
    "            for j in range(len(encode_list[i])):\n",
    "                for k in range(len(integer_encoded)):\n",
    "                    if encode_list[i][j]==integer_encoded[k]:\n",
    "                        decode_row.append(elements[k])\n",
    "            decode_list.append(decode_row)\n",
    "        return decode_list  \n",
    "\n",
    "    arr = process_0_each_data(path_image)\n",
    "    arr1 = to_input([arr])\n",
    "    t = decode(arr1)\n",
    "    t = decode_num(t)[0]\n",
    "    t = \"\".join(i for i in t)\n",
    "    return t\n"
   ]
  },
  {
   "cell_type": "code",
   "execution_count": 13,
   "metadata": {},
   "outputs": [
    {
     "name": "stdout",
     "output_type": "stream",
     "text": [
      "WARNING:tensorflow:From c:\\users\\cucttt1\\appdata\\local\\programs\\python\\python37\\lib\\site-packages\\keras\\backend\\tensorflow_backend.py:4290: to_int32 (from tensorflow.python.ops.math_ops) is deprecated and will be removed in a future version.\n",
      "Instructions for updating:\n",
      "Use tf.cast instead.\n",
      "WARNING:tensorflow:From c:\\users\\cucttt1\\appdata\\local\\programs\\python\\python37\\lib\\site-packages\\keras\\backend\\tensorflow_backend.py:4303: sparse_to_dense (from tensorflow.python.ops.sparse_ops) is deprecated and will be removed in a future version.\n",
      "Instructions for updating:\n",
      "Create a `tf.sparse.SparseTensor` and use `tf.sparse.to_dense` instead.\n",
      "Ket qua la:  83-S3 0735\n"
     ]
    }
   ],
   "source": [
    "result = predict_JP('test_img.png')\n",
    "print(\"Ket qua la: \", result)"
   ]
  },
  {
   "cell_type": "code",
   "execution_count": null,
   "metadata": {},
   "outputs": [],
   "source": []
  }
 ],
 "metadata": {
  "kernelspec": {
   "display_name": "Python 3",
   "language": "python",
   "name": "python3"
  },
  "language_info": {
   "codemirror_mode": {
    "name": "ipython",
    "version": 3
   },
   "file_extension": ".py",
   "mimetype": "text/x-python",
   "name": "python",
   "nbconvert_exporter": "python",
   "pygments_lexer": "ipython3",
   "version": "3.6.5"
  }
 },
 "nbformat": 4,
 "nbformat_minor": 2
}
